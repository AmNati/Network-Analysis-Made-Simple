{
 "cells": [
  {
   "cell_type": "code",
   "execution_count": null,
   "metadata": {},
   "outputs": [],
   "source": [
    "%load_ext autoreload\n",
    "%autoreload 2\n",
    "%matplotlib inline\n",
    "%config InlineBackend.figure_format = 'retina'"
   ]
  },
  {
   "cell_type": "markdown",
   "metadata": {},
   "source": [
    "In this notebook, we are going to see how the top trading cycle works. \n",
    "\n",
    "- Leverage knowledge of bipartite graphs and projections.\n",
    "- Use it to solve a common class of problems."
   ]
  },
  {
   "cell_type": "code",
   "execution_count": null,
   "metadata": {},
   "outputs": [],
   "source": [
    "# Start with ownership data\n",
    "owners = {\n",
    "    # map house id to owner id\n",
    "    \"h1\":\"o1\",\n",
    "    \"h2\":\"o2\",\n",
    "    \"h3\":\"o3\",\n",
    "    \"h4\":\"o4\",\n",
    "    \"h5\":\"o5\",\n",
    "}\n",
    "\n",
    "\n",
    "# Now do preferences data\n",
    "preferences = {\n",
    "    # map owner id to house id\n",
    "    \"o1\":\"h2\",\n",
    "    \"o2\":\"h1\",\n",
    "    \"o3\":\"h3\",\n",
    "    \"o4\":\"h3\",\n",
    "    \"o5\":\"h3\",\n",
    "}"
   ]
  },
  {
   "cell_type": "code",
   "execution_count": null,
   "metadata": {},
   "outputs": [],
   "source": []
  }
 ],
 "metadata": {
  "kernelspec": {
   "display_name": "nams",
   "language": "python",
   "name": "nams"
  },
  "language_info": {
   "codemirror_mode": {
    "name": "ipython",
    "version": 3
   },
   "file_extension": ".py",
   "mimetype": "text/x-python",
   "name": "python",
   "nbconvert_exporter": "python",
   "pygments_lexer": "ipython3",
   "version": "3.7.7"
  }
 },
 "nbformat": 4,
 "nbformat_minor": 4
}
